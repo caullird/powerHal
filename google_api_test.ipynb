{
 "cells": [
  {
   "cell_type": "code",
   "execution_count": 2,
   "metadata": {},
   "outputs": [
    {
     "name": "stdout",
     "output_type": "stream",
     "text": [
      "Name: scholarly\n",
      "Version: 1.6.0\n",
      "Summary: Simple access to Google Scholar authors and citations\n",
      "Home-page: https://github.com/scholarly-python-package/scholarly\n",
      "Author: Steven A. Cholewiak, Panos Ipeirotis, Victor Silva, Arun Kannawadi\n",
      "Author-email: steven@cholewiak.com, panos@stern.nyu.edu, vsilva@ualberta.ca, arunkannawadi@astro.princeton.edu\n",
      "License: Unlicense\n",
      "Location: c:\\users\\gabriel\\appdata\\local\\programs\\python\\python38\\lib\\site-packages\n",
      "Requires: arrow, beautifulsoup4, bibtexparser, deprecated, fake-useragent, free-proxy, python-dotenv, requests, selenium, sphinx-rtd-theme, typing-extensions\n",
      "Required-by: \n",
      "Note: you may need to restart the kernel to use updated packages.\n"
     ]
    }
   ],
   "source": [
    "pip show scholarly"
   ]
  },
  {
   "cell_type": "code",
   "execution_count": 3,
   "metadata": {},
   "outputs": [],
   "source": [
    "#Imports\n",
    "from scholarly import scholarly\n",
    "import requests\n",
    "import os\n",
    "import json"
   ]
  },
  {
   "cell_type": "code",
   "execution_count": 4,
   "metadata": {},
   "outputs": [
    {
     "ename": "MaxTriesExceededException",
     "evalue": "Cannot Fetch from Google Scholar.",
     "output_type": "error",
     "traceback": [
      "\u001b[1;31m---------------------------------------------------------------------------\u001b[0m",
      "\u001b[1;31mMaxTriesExceededException\u001b[0m                 Traceback (most recent call last)",
      "\u001b[1;32m~\\AppData\\Local\\Temp/ipykernel_20560/2942331986.py\u001b[0m in \u001b[0;36m<module>\u001b[1;34m\u001b[0m\n\u001b[0;32m      1\u001b[0m \u001b[1;31m#Search and get an author\u001b[0m\u001b[1;33m\u001b[0m\u001b[1;33m\u001b[0m\u001b[1;33m\u001b[0m\u001b[0m\n\u001b[0;32m      2\u001b[0m \u001b[0msearch_query\u001b[0m \u001b[1;33m=\u001b[0m \u001b[0mscholarly\u001b[0m\u001b[1;33m.\u001b[0m\u001b[0msearch_author\u001b[0m\u001b[1;33m(\u001b[0m\u001b[1;34m'Kave Salamatian'\u001b[0m\u001b[1;33m)\u001b[0m\u001b[1;33m\u001b[0m\u001b[1;33m\u001b[0m\u001b[0m\n\u001b[1;32m----> 3\u001b[1;33m \u001b[0mfirst_author_result\u001b[0m \u001b[1;33m=\u001b[0m \u001b[0mnext\u001b[0m\u001b[1;33m(\u001b[0m\u001b[0msearch_query\u001b[0m\u001b[1;33m)\u001b[0m\u001b[1;33m\u001b[0m\u001b[1;33m\u001b[0m\u001b[0m\n\u001b[0m",
      "\u001b[1;32m~\\AppData\\Local\\Programs\\Python\\Python38\\lib\\site-packages\\scholarly\\_navigator.py\u001b[0m in \u001b[0;36msearch_authors\u001b[1;34m(self, url)\u001b[0m\n\u001b[0;32m    235\u001b[0m     \u001b[1;32mdef\u001b[0m \u001b[0msearch_authors\u001b[0m\u001b[1;33m(\u001b[0m\u001b[0mself\u001b[0m\u001b[1;33m,\u001b[0m \u001b[0murl\u001b[0m\u001b[1;33m:\u001b[0m \u001b[0mstr\u001b[0m\u001b[1;33m)\u001b[0m\u001b[1;33m->\u001b[0m\u001b[0mAuthor\u001b[0m\u001b[1;33m:\u001b[0m\u001b[1;33m\u001b[0m\u001b[1;33m\u001b[0m\u001b[0m\n\u001b[0;32m    236\u001b[0m         \u001b[1;34m\"\"\"Generator that returns Author objects from the author search page\"\"\"\u001b[0m\u001b[1;33m\u001b[0m\u001b[1;33m\u001b[0m\u001b[0m\n\u001b[1;32m--> 237\u001b[1;33m         \u001b[0msoup\u001b[0m \u001b[1;33m=\u001b[0m \u001b[0mself\u001b[0m\u001b[1;33m.\u001b[0m\u001b[0m_get_soup\u001b[0m\u001b[1;33m(\u001b[0m\u001b[0murl\u001b[0m\u001b[1;33m)\u001b[0m\u001b[1;33m\u001b[0m\u001b[1;33m\u001b[0m\u001b[0m\n\u001b[0m\u001b[0;32m    238\u001b[0m \u001b[1;33m\u001b[0m\u001b[0m\n\u001b[0;32m    239\u001b[0m         \u001b[0mauthor_parser\u001b[0m \u001b[1;33m=\u001b[0m \u001b[0mAuthorParser\u001b[0m\u001b[1;33m(\u001b[0m\u001b[0mself\u001b[0m\u001b[1;33m)\u001b[0m\u001b[1;33m\u001b[0m\u001b[1;33m\u001b[0m\u001b[0m\n",
      "\u001b[1;32m~\\AppData\\Local\\Programs\\Python\\Python38\\lib\\site-packages\\scholarly\\_navigator.py\u001b[0m in \u001b[0;36m_get_soup\u001b[1;34m(self, url)\u001b[0m\n\u001b[0;32m    224\u001b[0m     \u001b[1;32mdef\u001b[0m \u001b[0m_get_soup\u001b[0m\u001b[1;33m(\u001b[0m\u001b[0mself\u001b[0m\u001b[1;33m,\u001b[0m \u001b[0murl\u001b[0m\u001b[1;33m:\u001b[0m \u001b[0mstr\u001b[0m\u001b[1;33m)\u001b[0m \u001b[1;33m->\u001b[0m \u001b[0mBeautifulSoup\u001b[0m\u001b[1;33m:\u001b[0m\u001b[1;33m\u001b[0m\u001b[1;33m\u001b[0m\u001b[0m\n\u001b[0;32m    225\u001b[0m         \u001b[1;34m\"\"\"Return the BeautifulSoup for a page on scholar.google.com\"\"\"\u001b[0m\u001b[1;33m\u001b[0m\u001b[1;33m\u001b[0m\u001b[0m\n\u001b[1;32m--> 226\u001b[1;33m         \u001b[0mhtml\u001b[0m \u001b[1;33m=\u001b[0m \u001b[0mself\u001b[0m\u001b[1;33m.\u001b[0m\u001b[0m_get_page\u001b[0m\u001b[1;33m(\u001b[0m\u001b[1;34m'https://scholar.google.com{0}'\u001b[0m\u001b[1;33m.\u001b[0m\u001b[0mformat\u001b[0m\u001b[1;33m(\u001b[0m\u001b[0murl\u001b[0m\u001b[1;33m)\u001b[0m\u001b[1;33m)\u001b[0m\u001b[1;33m\u001b[0m\u001b[1;33m\u001b[0m\u001b[0m\n\u001b[0m\u001b[0;32m    227\u001b[0m         \u001b[0mhtml\u001b[0m \u001b[1;33m=\u001b[0m \u001b[0mhtml\u001b[0m\u001b[1;33m.\u001b[0m\u001b[0mreplace\u001b[0m\u001b[1;33m(\u001b[0m\u001b[1;34mu'\\xa0'\u001b[0m\u001b[1;33m,\u001b[0m \u001b[1;34mu' '\u001b[0m\u001b[1;33m)\u001b[0m\u001b[1;33m\u001b[0m\u001b[1;33m\u001b[0m\u001b[0m\n\u001b[0;32m    228\u001b[0m         \u001b[0mres\u001b[0m \u001b[1;33m=\u001b[0m \u001b[0mBeautifulSoup\u001b[0m\u001b[1;33m(\u001b[0m\u001b[0mhtml\u001b[0m\u001b[1;33m,\u001b[0m \u001b[1;34m'html.parser'\u001b[0m\u001b[1;33m)\u001b[0m\u001b[1;33m\u001b[0m\u001b[1;33m\u001b[0m\u001b[0m\n",
      "\u001b[1;32m~\\AppData\\Local\\Programs\\Python\\Python38\\lib\\site-packages\\scholarly\\_navigator.py\u001b[0m in \u001b[0;36m_get_page\u001b[1;34m(self, pagerequest, premium)\u001b[0m\n\u001b[0;32m    173\u001b[0m         \u001b[1;31m# If secondary proxy does not work, try again primary proxy.\u001b[0m\u001b[1;33m\u001b[0m\u001b[1;33m\u001b[0m\u001b[1;33m\u001b[0m\u001b[0m\n\u001b[0;32m    174\u001b[0m         \u001b[1;32mif\u001b[0m \u001b[1;32mnot\u001b[0m \u001b[0mpremium\u001b[0m\u001b[1;33m:\u001b[0m\u001b[1;33m\u001b[0m\u001b[1;33m\u001b[0m\u001b[0m\n\u001b[1;32m--> 175\u001b[1;33m             \u001b[1;32mreturn\u001b[0m \u001b[0mself\u001b[0m\u001b[1;33m.\u001b[0m\u001b[0m_get_page\u001b[0m\u001b[1;33m(\u001b[0m\u001b[0mpagerequest\u001b[0m\u001b[1;33m,\u001b[0m \u001b[1;32mTrue\u001b[0m\u001b[1;33m)\u001b[0m\u001b[1;33m\u001b[0m\u001b[1;33m\u001b[0m\u001b[0m\n\u001b[0m\u001b[0;32m    176\u001b[0m         \u001b[1;32melse\u001b[0m\u001b[1;33m:\u001b[0m\u001b[1;33m\u001b[0m\u001b[1;33m\u001b[0m\u001b[0m\n\u001b[0;32m    177\u001b[0m             \u001b[1;32mraise\u001b[0m \u001b[0mMaxTriesExceededException\u001b[0m\u001b[1;33m(\u001b[0m\u001b[1;34m\"Cannot Fetch from Google Scholar.\"\u001b[0m\u001b[1;33m)\u001b[0m\u001b[1;33m\u001b[0m\u001b[1;33m\u001b[0m\u001b[0m\n",
      "\u001b[1;32m~\\AppData\\Local\\Programs\\Python\\Python38\\lib\\site-packages\\scholarly\\_navigator.py\u001b[0m in \u001b[0;36m_get_page\u001b[1;34m(self, pagerequest, premium)\u001b[0m\n\u001b[0;32m    175\u001b[0m             \u001b[1;32mreturn\u001b[0m \u001b[0mself\u001b[0m\u001b[1;33m.\u001b[0m\u001b[0m_get_page\u001b[0m\u001b[1;33m(\u001b[0m\u001b[0mpagerequest\u001b[0m\u001b[1;33m,\u001b[0m \u001b[1;32mTrue\u001b[0m\u001b[1;33m)\u001b[0m\u001b[1;33m\u001b[0m\u001b[1;33m\u001b[0m\u001b[0m\n\u001b[0;32m    176\u001b[0m         \u001b[1;32melse\u001b[0m\u001b[1;33m:\u001b[0m\u001b[1;33m\u001b[0m\u001b[1;33m\u001b[0m\u001b[0m\n\u001b[1;32m--> 177\u001b[1;33m             \u001b[1;32mraise\u001b[0m \u001b[0mMaxTriesExceededException\u001b[0m\u001b[1;33m(\u001b[0m\u001b[1;34m\"Cannot Fetch from Google Scholar.\"\u001b[0m\u001b[1;33m)\u001b[0m\u001b[1;33m\u001b[0m\u001b[1;33m\u001b[0m\u001b[0m\n\u001b[0m\u001b[0;32m    178\u001b[0m \u001b[1;33m\u001b[0m\u001b[0m\n\u001b[0;32m    179\u001b[0m \u001b[1;33m\u001b[0m\u001b[0m\n",
      "\u001b[1;31mMaxTriesExceededException\u001b[0m: Cannot Fetch from Google Scholar."
     ]
    }
   ],
   "source": [
    "#Search and get an author\n",
    "search_query = scholarly.search_author('Kave Salamatian')\n",
    "first_author_result = next(search_query)"
   ]
  },
  {
   "cell_type": "code",
   "execution_count": null,
   "metadata": {},
   "outputs": [],
   "source": [
    "# Fill the author with the publication\n",
    "author = scholarly.fill(first_author_result )\n",
    "publications = author[\"publications\"]"
   ]
  },
  {
   "cell_type": "code",
   "execution_count": null,
   "metadata": {},
   "outputs": [],
   "source": [
    "# Fill the first publication\n",
    "first_publication_filled = scholarly.fill(author[\"publications\"][1])"
   ]
  },
  {
   "cell_type": "code",
   "execution_count": null,
   "metadata": {},
   "outputs": [
    {
     "data": {
      "text/plain": [
       "{'container_type': 'Publication',\n",
       " 'source': <PublicationSource.AUTHOR_PUBLICATION_ENTRY: 'AUTHOR_PUBLICATION_ENTRY'>,\n",
       " 'bib': {'title': 'Traffic matrix estimation: Existing techniques and new directions',\n",
       "  'pub_year': 2002,\n",
       "  'author': 'Alberto Medina and Nina Taft and Kave Salamatian and Supratik Bhattacharyya and Christophe Diot',\n",
       "  'journal': 'ACM SIGCOMM Computer Communication Review',\n",
       "  'volume': '32',\n",
       "  'number': '4',\n",
       "  'pages': '161-174',\n",
       "  'publisher': 'ACM',\n",
       "  'abstract': 'Very few techniques have been proposed for estimating traffic matrices in the context of Internet traffic. Our work on POP-to-POP traffic matrices (TM) makes two contributions. The primary contribution is the outcome of a detailed comparative evaluation of the three existing techniques. We evaluate these methods with respect to the estimation errors yielded, sensitivity to prior information required and sensitivity to the statistical assumptions they make. We study the impact of characteristics such as path length and the amount of link sharing on the estimation errors. Using actual data from a Tier-1 backbone, we assess the validity of the typical assumptions needed by the TM estimation techniques. The secondary contribution of our work is the proposal of a new direction for TM estimation based on using choice models to model POP fanouts. These models allow us to overcome some of the problems of existing methods …'},\n",
       " 'filled': True,\n",
       " 'author_pub_id': 's718KIEAAAAJ:dfsIfKJdRG4C',\n",
       " 'num_citations': 788,\n",
       " 'citedby_url': '/scholar?cites=16743048074686648271',\n",
       " 'cites_id': ['16743048074686648271'],\n",
       " 'pub_url': 'https://dl.acm.org/doi/abs/10.1145/964725.633041',\n",
       " 'url_related_articles': '/scholar?oi=bibs&hl=en&q=related:z0_89INBW-gJ:scholar.google.com/',\n",
       " 'cites_per_year': {2002: 8,\n",
       "  2003: 35,\n",
       "  2004: 57,\n",
       "  2005: 56,\n",
       "  2006: 53,\n",
       "  2007: 72,\n",
       "  2008: 69,\n",
       "  2009: 48,\n",
       "  2010: 57,\n",
       "  2011: 53,\n",
       "  2012: 32,\n",
       "  2013: 42,\n",
       "  2014: 23,\n",
       "  2015: 28,\n",
       "  2016: 33,\n",
       "  2017: 22,\n",
       "  2018: 31,\n",
       "  2019: 13,\n",
       "  2020: 17,\n",
       "  2021: 22,\n",
       "  2022: 3}}"
      ]
     },
     "execution_count": 65,
     "metadata": {},
     "output_type": "execute_result"
    }
   ],
   "source": [
    "author[\"publications\"][1]\n"
   ]
  },
  {
   "cell_type": "code",
   "execution_count": 58,
   "metadata": {},
   "outputs": [
    {
     "name": "stdout",
     "output_type": "stream",
     "text": [
      "container_type\n",
      "source\n",
      "bib\n",
      "filled\n",
      "author_pub_id\n",
      "num_citations\n",
      "citedby_url\n",
      "cites_id\n",
      "pub_url\n",
      "url_related_articles\n",
      "cites_per_year\n"
     ]
    }
   ],
   "source": [
    "for i in first_publication_filled:\n",
    "    print(i)"
   ]
  },
  {
   "cell_type": "code",
   "execution_count": 1,
   "metadata": {},
   "outputs": [
    {
     "ename": "SyntaxError",
     "evalue": "invalid syntax (Temp/ipykernel_20560/268021338.py, line 1)",
     "output_type": "error",
     "traceback": [
      "\u001b[1;36m  File \u001b[1;32m\"C:\\Users\\Gabriel\\AppData\\Local\\Temp/ipykernel_20560/268021338.py\"\u001b[1;36m, line \u001b[1;32m1\u001b[0m\n\u001b[1;33m    def get_all_pdf(auteur_name,publications[:5]):\u001b[0m\n\u001b[1;37m                                            ^\u001b[0m\n\u001b[1;31mSyntaxError\u001b[0m\u001b[1;31m:\u001b[0m invalid syntax\n"
     ]
    }
   ],
   "source": [
    "def get_all_pdf(auteur_name,publications[:5]):\n",
    "    auteur = {}\n",
    "    for i in publications:\n",
    "        try:\n",
    "            auteur[i[\"author_pub_id\"].split(':')[1]] = True \n",
    "            #print(i[\"author_pub_id\"])\n",
    "            get_pdf(i[\"author_pub_id\"])\n",
    "        except:\n",
    "            auteur[i[\"author_pub_id\"].split(':')[1]] = False \n",
    "            #print(\"fail\" + i[\"author_pub_id\"])\n",
    "    auteur_string = json.dumps(auteur)\n",
    "    with open(\"Google_scholar/\" + publications[0][\"author_pub_id\"].split(':')[0]+\"/\"+ auteur_name +\".json\", 'w') as outfile:\n",
    "        json.dump(auteur_string, outfile)\n",
    "\n"
   ]
  },
  {
   "cell_type": "code",
   "execution_count": 133,
   "metadata": {},
   "outputs": [
    {
     "name": "stdout",
     "output_type": "stream",
     "text": [
      "s718KIEAAAAJ:cFHS6HbyZ2cC\n",
      "fails718KIEAAAAJ:cFHS6HbyZ2cC\n",
      "s718KIEAAAAJ:dfsIfKJdRG4C\n",
      "fails718KIEAAAAJ:dfsIfKJdRG4C\n",
      "s718KIEAAAAJ:yD5IFk8b50cC\n",
      "fails718KIEAAAAJ:yD5IFk8b50cC\n",
      "s718KIEAAAAJ:a0OBvERweLwC\n",
      "fails718KIEAAAAJ:a0OBvERweLwC\n",
      "s718KIEAAAAJ:D03iK_w7-QYC\n",
      "fails718KIEAAAAJ:D03iK_w7-QYC\n",
      "s718KIEAAAAJ:CHSYGLWDkRkC\n",
      "fails718KIEAAAAJ:CHSYGLWDkRkC\n",
      "s718KIEAAAAJ:pyW8ca7W8N0C\n",
      "fails718KIEAAAAJ:pyW8ca7W8N0C\n",
      "s718KIEAAAAJ:_xSYboBqXhAC\n",
      "fails718KIEAAAAJ:_xSYboBqXhAC\n",
      "s718KIEAAAAJ:f2IySw72cVMC\n",
      "fails718KIEAAAAJ:f2IySw72cVMC\n",
      "s718KIEAAAAJ:bFI3QPDXJZMC\n",
      "fails718KIEAAAAJ:bFI3QPDXJZMC\n",
      "s718KIEAAAAJ:VOx2b1Wkg3QC\n",
      "fails718KIEAAAAJ:VOx2b1Wkg3QC\n",
      "s718KIEAAAAJ:8xutWZnSdmoC\n",
      "fails718KIEAAAAJ:8xutWZnSdmoC\n",
      "s718KIEAAAAJ:b0M2c_1WBrUC\n",
      "fails718KIEAAAAJ:b0M2c_1WBrUC\n",
      "s718KIEAAAAJ:nb7KW1ujOQ8C\n",
      "fails718KIEAAAAJ:nb7KW1ujOQ8C\n",
      "s718KIEAAAAJ:tzM49s52ZIMC\n",
      "fails718KIEAAAAJ:tzM49s52ZIMC\n",
      "s718KIEAAAAJ:EUQCXRtRnyEC\n",
      "fails718KIEAAAAJ:EUQCXRtRnyEC\n",
      "s718KIEAAAAJ:abG-DnoFyZgC\n",
      "fails718KIEAAAAJ:abG-DnoFyZgC\n",
      "s718KIEAAAAJ:xtRiw3GOFMkC\n",
      "fails718KIEAAAAJ:xtRiw3GOFMkC\n",
      "s718KIEAAAAJ:7T2F9Uy0os0C\n",
      "fails718KIEAAAAJ:7T2F9Uy0os0C\n",
      "s718KIEAAAAJ:V3AGJWp-ZtQC\n",
      "fails718KIEAAAAJ:V3AGJWp-ZtQC\n",
      "s718KIEAAAAJ:NXb4pA-qfm4C\n",
      "fails718KIEAAAAJ:NXb4pA-qfm4C\n",
      "s718KIEAAAAJ:MLfJN-KU85MC\n",
      "fails718KIEAAAAJ:MLfJN-KU85MC\n",
      "s718KIEAAAAJ:NhqRSupF_l8C\n",
      "fails718KIEAAAAJ:NhqRSupF_l8C\n",
      "s718KIEAAAAJ:1qzjygNMrQYC\n",
      "fails718KIEAAAAJ:1qzjygNMrQYC\n",
      "s718KIEAAAAJ:bz8QjSJIRt4C\n",
      "fails718KIEAAAAJ:bz8QjSJIRt4C\n",
      "s718KIEAAAAJ:foquWX3nUaYC\n",
      "fails718KIEAAAAJ:foquWX3nUaYC\n",
      "s718KIEAAAAJ:9vf0nzSNQJEC\n",
      "fails718KIEAAAAJ:9vf0nzSNQJEC\n",
      "s718KIEAAAAJ:PoWvk5oyLR8C\n",
      "fails718KIEAAAAJ:PoWvk5oyLR8C\n",
      "s718KIEAAAAJ:hCrLmN-GePgC\n",
      "fails718KIEAAAAJ:hCrLmN-GePgC\n",
      "s718KIEAAAAJ:vRqMK49ujn8C\n",
      "fails718KIEAAAAJ:vRqMK49ujn8C\n",
      "s718KIEAAAAJ:tS2w5q8j5-wC\n",
      "fails718KIEAAAAJ:tS2w5q8j5-wC\n",
      "s718KIEAAAAJ:OR75R8vi5nAC\n",
      "fails718KIEAAAAJ:OR75R8vi5nAC\n",
      "s718KIEAAAAJ:HtS1dXgVpQUC\n",
      "fails718KIEAAAAJ:HtS1dXgVpQUC\n",
      "s718KIEAAAAJ:8AbLer7MMksC\n",
      "fails718KIEAAAAJ:8AbLer7MMksC\n",
      "s718KIEAAAAJ:Ehil0879vHcC\n",
      "fails718KIEAAAAJ:Ehil0879vHcC\n",
      "s718KIEAAAAJ:5Ul4iDaHHb8C\n",
      "fails718KIEAAAAJ:5Ul4iDaHHb8C\n",
      "s718KIEAAAAJ:35r97b3x0nAC\n",
      "fails718KIEAAAAJ:35r97b3x0nAC\n",
      "s718KIEAAAAJ:L7CI7m0gUJcC\n",
      "fails718KIEAAAAJ:L7CI7m0gUJcC\n",
      "s718KIEAAAAJ:OU6Ihb5iCvQC\n",
      "fails718KIEAAAAJ:OU6Ihb5iCvQC\n",
      "s718KIEAAAAJ:EYYDruWGBe4C\n",
      "fails718KIEAAAAJ:EYYDruWGBe4C\n",
      "s718KIEAAAAJ:Ri6SYOTghG4C\n",
      "fails718KIEAAAAJ:Ri6SYOTghG4C\n",
      "s718KIEAAAAJ:SP6oXDckpogC\n",
      "fails718KIEAAAAJ:SP6oXDckpogC\n",
      "s718KIEAAAAJ:uc_IGeMz5qoC\n",
      "fails718KIEAAAAJ:uc_IGeMz5qoC\n",
      "s718KIEAAAAJ:LO7wyVUgiFcC\n",
      "fails718KIEAAAAJ:LO7wyVUgiFcC\n",
      "s718KIEAAAAJ:tYavs44e6CUC\n",
      "fails718KIEAAAAJ:tYavs44e6CUC\n",
      "s718KIEAAAAJ:lmc2jWPfTJgC\n",
      "fails718KIEAAAAJ:lmc2jWPfTJgC\n",
      "s718KIEAAAAJ:tuHXwOkdijsC\n",
      "fails718KIEAAAAJ:tuHXwOkdijsC\n",
      "s718KIEAAAAJ:TIZ-Mc8IlK0C\n",
      "fails718KIEAAAAJ:TIZ-Mc8IlK0C\n",
      "s718KIEAAAAJ:BUYA1_V_uYcC\n",
      "fails718KIEAAAAJ:BUYA1_V_uYcC\n",
      "s718KIEAAAAJ:dshw04ExmUIC\n",
      "fails718KIEAAAAJ:dshw04ExmUIC\n",
      "s718KIEAAAAJ:uWiczbcajpAC\n",
      "fails718KIEAAAAJ:uWiczbcajpAC\n",
      "s718KIEAAAAJ:P5F9QuxV20EC\n",
      "fails718KIEAAAAJ:P5F9QuxV20EC\n",
      "s718KIEAAAAJ:URolC5Kub84C\n",
      "fails718KIEAAAAJ:URolC5Kub84C\n",
      "s718KIEAAAAJ:VL0QpB8kHFEC\n",
      "fails718KIEAAAAJ:VL0QpB8kHFEC\n",
      "s718KIEAAAAJ:IUKN3-7HHlwC\n",
      "fails718KIEAAAAJ:IUKN3-7HHlwC\n",
      "s718KIEAAAAJ:5MTHONV0fEkC\n",
      "fails718KIEAAAAJ:5MTHONV0fEkC\n",
      "s718KIEAAAAJ:p2g8aNsByqUC\n",
      "fails718KIEAAAAJ:p2g8aNsByqUC\n",
      "s718KIEAAAAJ:olpn-zPbct0C\n",
      "fails718KIEAAAAJ:olpn-zPbct0C\n",
      "s718KIEAAAAJ:WbkHhVStYXYC\n",
      "fails718KIEAAAAJ:WbkHhVStYXYC\n",
      "s718KIEAAAAJ:wbdj-CoPYUoC\n",
      "fails718KIEAAAAJ:wbdj-CoPYUoC\n",
      "s718KIEAAAAJ:UxriW0iASnsC\n",
      "fails718KIEAAAAJ:UxriW0iASnsC\n",
      "s718KIEAAAAJ:Y5dfb0dijaUC\n",
      "fails718KIEAAAAJ:Y5dfb0dijaUC\n",
      "s718KIEAAAAJ:u9iWguZQMMsC\n",
      "fails718KIEAAAAJ:u9iWguZQMMsC\n",
      "s718KIEAAAAJ:WZBGuue-350C\n",
      "fails718KIEAAAAJ:WZBGuue-350C\n",
      "s718KIEAAAAJ:eq2jaN3J8jMC\n",
      "fails718KIEAAAAJ:eq2jaN3J8jMC\n",
      "s718KIEAAAAJ:uWQEDVKXjbEC\n",
      "fails718KIEAAAAJ:uWQEDVKXjbEC\n",
      "s718KIEAAAAJ:4fKUyHm3Qg0C\n",
      "fails718KIEAAAAJ:4fKUyHm3Qg0C\n",
      "s718KIEAAAAJ:738O_yMBCRsC\n",
      "fails718KIEAAAAJ:738O_yMBCRsC\n",
      "s718KIEAAAAJ:anf4URPfarAC\n",
      "fails718KIEAAAAJ:anf4URPfarAC\n",
      "s718KIEAAAAJ:AXPGKjj_ei8C\n",
      "fails718KIEAAAAJ:AXPGKjj_ei8C\n",
      "s718KIEAAAAJ:tKAzc9rXhukC\n",
      "fails718KIEAAAAJ:tKAzc9rXhukC\n",
      "s718KIEAAAAJ:i2xiXl-TujoC\n",
      "fails718KIEAAAAJ:i2xiXl-TujoC\n",
      "s718KIEAAAAJ:ILKRHgRFtOwC\n",
      "fails718KIEAAAAJ:ILKRHgRFtOwC\n",
      "s718KIEAAAAJ:PR6Y55bgFSsC\n",
      "fails718KIEAAAAJ:PR6Y55bgFSsC\n",
      "s718KIEAAAAJ:mvPsJ3kp5DgC\n",
      "fails718KIEAAAAJ:mvPsJ3kp5DgC\n",
      "s718KIEAAAAJ:J-pR_7NvFogC\n",
      "fails718KIEAAAAJ:J-pR_7NvFogC\n",
      "s718KIEAAAAJ:tOudhMTPpwUC\n",
      "fails718KIEAAAAJ:tOudhMTPpwUC\n",
      "s718KIEAAAAJ:2KloaMYe4IUC\n",
      "fails718KIEAAAAJ:2KloaMYe4IUC\n",
      "s718KIEAAAAJ:LPZeul_q3PIC\n",
      "fails718KIEAAAAJ:LPZeul_q3PIC\n",
      "s718KIEAAAAJ:Tiz5es2fbqcC\n",
      "fails718KIEAAAAJ:Tiz5es2fbqcC\n",
      "s718KIEAAAAJ:Aul-kAQHnToC\n",
      "fails718KIEAAAAJ:Aul-kAQHnToC\n",
      "s718KIEAAAAJ:F9fV5C73w3QC\n",
      "fails718KIEAAAAJ:F9fV5C73w3QC\n",
      "s718KIEAAAAJ:sNmaIFBj_lkC\n",
      "fails718KIEAAAAJ:sNmaIFBj_lkC\n",
      "s718KIEAAAAJ:ZuybSZzF8UAC\n",
      "fails718KIEAAAAJ:ZuybSZzF8UAC\n",
      "s718KIEAAAAJ:XiSMed-E-HIC\n",
      "fails718KIEAAAAJ:XiSMed-E-HIC\n",
      "s718KIEAAAAJ:l7t_Zn2s7bgC\n",
      "fails718KIEAAAAJ:l7t_Zn2s7bgC\n",
      "s718KIEAAAAJ:buQ7SEKw-1sC\n",
      "fails718KIEAAAAJ:buQ7SEKw-1sC\n",
      "s718KIEAAAAJ:gsN89kCJA0AC\n",
      "fails718KIEAAAAJ:gsN89kCJA0AC\n",
      "s718KIEAAAAJ:HE397vMXCloC\n",
      "fails718KIEAAAAJ:HE397vMXCloC\n",
      "s718KIEAAAAJ:D_sINldO8mEC\n",
      "fails718KIEAAAAJ:D_sINldO8mEC\n",
      "s718KIEAAAAJ:fQNAKQ3IYiAC\n",
      "fails718KIEAAAAJ:fQNAKQ3IYiAC\n",
      "s718KIEAAAAJ:geHnlv5EZngC\n",
      "fails718KIEAAAAJ:geHnlv5EZngC\n",
      "s718KIEAAAAJ:PVgj2kMGcgYC\n",
      "fails718KIEAAAAJ:PVgj2kMGcgYC\n",
      "s718KIEAAAAJ:PELIpwtuRlgC\n",
      "fails718KIEAAAAJ:PELIpwtuRlgC\n",
      "s718KIEAAAAJ:vDZJ-YLwNdEC\n",
      "fails718KIEAAAAJ:vDZJ-YLwNdEC\n",
      "s718KIEAAAAJ:gVv57TyPmFsC\n",
      "fails718KIEAAAAJ:gVv57TyPmFsC\n",
      "s718KIEAAAAJ:dBIO0h50nwkC\n",
      "fails718KIEAAAAJ:dBIO0h50nwkC\n",
      "s718KIEAAAAJ:Ug5p-4gJ2f0C\n",
      "fails718KIEAAAAJ:Ug5p-4gJ2f0C\n",
      "s718KIEAAAAJ:sSrBHYA8nusC\n",
      "fails718KIEAAAAJ:sSrBHYA8nusC\n",
      "s718KIEAAAAJ:eJXPG6dFmWUC\n",
      "fails718KIEAAAAJ:eJXPG6dFmWUC\n",
      "s718KIEAAAAJ:zCSUwVk65WsC\n",
      "fails718KIEAAAAJ:zCSUwVk65WsC\n",
      "s718KIEAAAAJ:yqoGN6RLRZoC\n",
      "fails718KIEAAAAJ:yqoGN6RLRZoC\n",
      "s718KIEAAAAJ:nrtMV_XWKgEC\n",
      "fails718KIEAAAAJ:nrtMV_XWKgEC\n",
      "s718KIEAAAAJ:VLnqNzywnoUC\n",
      "fails718KIEAAAAJ:VLnqNzywnoUC\n",
      "s718KIEAAAAJ:BrmTIyaxlBUC\n",
      "fails718KIEAAAAJ:BrmTIyaxlBUC\n",
      "s718KIEAAAAJ:OTTXONDVkokC\n",
      "fails718KIEAAAAJ:OTTXONDVkokC\n",
      "s718KIEAAAAJ:KUbvn5osdkgC\n",
      "fails718KIEAAAAJ:KUbvn5osdkgC\n",
      "s718KIEAAAAJ:4MWp96NkSFoC\n",
      "fails718KIEAAAAJ:4MWp96NkSFoC\n",
      "s718KIEAAAAJ:LgRImbQfgY4C\n",
      "fails718KIEAAAAJ:LgRImbQfgY4C\n",
      "s718KIEAAAAJ:Ak0FvsSvgGUC\n"
     ]
    }
   ],
   "source": [
    "get_all_pdf(\"Kave\",author[\"publications\"])\n",
    "    "
   ]
  },
  {
   "cell_type": "code",
   "execution_count": 78,
   "metadata": {},
   "outputs": [],
   "source": [
    "response = requests.get(\"https://scholar.google.com/citations?view_op=view_citation&hl=en&user=s718KIEAAAAJ&citation_for_view=s718KIEAAAAJ:dfsIfKJdRG4C\")"
   ]
  },
  {
   "cell_type": "code",
   "execution_count": 83,
   "metadata": {},
   "outputs": [
    {
     "data": {
      "text/plain": [
       "'https://dl.acm.org/doi/pdf/10.1145/633025.633041'"
      ]
     },
     "execution_count": 83,
     "metadata": {},
     "output_type": "execute_result"
    }
   ],
   "source": [
    "response.text.split('<div class=\"gsc_oci_title_ggi\"><a href=\"')[1].split('\"')[0]"
   ]
  },
  {
   "cell_type": "code",
   "execution_count": null,
   "metadata": {},
   "outputs": [],
   "source": [
    "def get_pdf(author_pub_id):\n",
    "    print(author_pub_id)\n",
    "    user = author_pub_id.split(\":\")[0]\n",
    "    url = \"https://scholar.google.com/citations?view_op=view_citation&hl=en&user=\" + user + \"&citation_for_view=\" + author_pub_id\n",
    "    pdf_url = requests.get(url).text.split('<div class=\"gsc_oci_title_ggi\"><a href=\"')[1].split('\"')[0]\n",
    "    print(pdf_url)\n",
    "    pdf = requests.get(pdf_url)\n",
    "    try:\n",
    "        f = open(\"Google_scholar/\" + user+\"/\" + author_pub_id.replace(\":\",\"_\")+\".pdf\", 'wb')\n",
    "    except:\n",
    "        os.mkdir(\"Google_scholar/\" +user)\n",
    "        f = open(\"Google_scholar/\" + user+\"/\" + author_pub_id.replace(\":\",\"_\")+\".pdf\", 'wb')\n",
    "    f.write(pdf.content)\n",
    "    f.close()\n"
   ]
  },
  {
   "cell_type": "code",
   "execution_count": 115,
   "metadata": {},
   "outputs": [
    {
     "name": "stdout",
     "output_type": "stream",
     "text": [
      "https://hal.archives-ouvertes.fr/hal-00620090/file/infocom2009.pdf\n"
     ]
    }
   ],
   "source": [
    "get_pdf(\"s718KIEAAAAJ:CHSYGLWDkRkC\")"
   ]
  }
 ],
 "metadata": {
  "interpreter": {
   "hash": "d225ef068b728d8e49a1c2030954afd4b67d98d094d362098b681dadac24fc32"
  },
  "kernelspec": {
   "display_name": "Python 3.10.2 64-bit (windows store)",
   "language": "python",
   "name": "python3"
  },
  "language_info": {
   "codemirror_mode": {
    "name": "ipython",
    "version": 3
   },
   "file_extension": ".py",
   "mimetype": "text/x-python",
   "name": "python",
   "nbconvert_exporter": "python",
   "pygments_lexer": "ipython3",
   "version": "3.8.8"
  },
  "orig_nbformat": 4
 },
 "nbformat": 4,
 "nbformat_minor": 2
}
