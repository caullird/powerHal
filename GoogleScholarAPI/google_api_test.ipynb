{
 "cells": [
  {
   "cell_type": "code",
   "execution_count": 2,
   "metadata": {},
   "outputs": [
    {
     "name": "stdout",
     "output_type": "stream",
     "text": [
      "Name: scholarly\n",
      "Version: 1.6.0\n",
      "Summary: Simple access to Google Scholar authors and citations\n",
      "Home-page: https://github.com/scholarly-python-package/scholarly\n",
      "Author: Steven A. Cholewiak, Panos Ipeirotis, Victor Silva, Arun Kannawadi\n",
      "Author-email: steven@cholewiak.com, panos@stern.nyu.edu, vsilva@ualberta.ca, arunkannawadi@astro.princeton.edu\n",
      "License: Unlicense\n",
      "Location: c:\\users\\gabriel\\appdata\\local\\programs\\python\\python38\\lib\\site-packages\n",
      "Requires: arrow, beautifulsoup4, bibtexparser, deprecated, fake-useragent, free-proxy, python-dotenv, requests, selenium, sphinx-rtd-theme, typing-extensions\n",
      "Required-by: \n",
      "Note: you may need to restart the kernel to use updated packages.\n"
     ]
    }
   ],
   "source": [
    "pip show scholarly"
   ]
  },
  {
   "cell_type": "code",
   "execution_count": 1,
   "metadata": {},
   "outputs": [],
   "source": [
    "#Imports\n",
    "from scholarly import scholarly\n",
    "import requests\n",
    "import os\n",
    "import json"
   ]
  },
  {
   "cell_type": "code",
   "execution_count": 15,
   "metadata": {},
   "outputs": [],
   "source": [
    "#Search and get an author\n",
    "search_query = scholarly.search_author('Sebastien Monnet')\n",
    "first_author_result = next(search_query)"
   ]
  },
  {
   "cell_type": "code",
   "execution_count": 18,
   "metadata": {},
   "outputs": [],
   "source": [
    "# Fill the author with the publication\n",
    "author = scholarly.fill(first_author_result )\n",
    "pub = scholarly.fill(author[\"publications\"][0])"
   ]
  },
  {
   "cell_type": "code",
   "execution_count": 11,
   "metadata": {},
   "outputs": [],
   "source": [
    "query = scholarly.search_pubs(\"A density-based algorithm for discovering clusters in large spatial databases with noise\")\n",
    "pub = next(query)"
   ]
  },
  {
   "cell_type": "code",
   "execution_count": 19,
   "metadata": {},
   "outputs": [
    {
     "data": {
      "text/plain": [
       "{'container_type': 'Publication',\n",
       " 'source': <PublicationSource.AUTHOR_PUBLICATION_ENTRY: 'AUTHOR_PUBLICATION_ENTRY'>,\n",
       " 'bib': {'title': 'How to bring together fault tolerance and data consistency to enable grid data sharing',\n",
       "  'pub_year': 2006,\n",
       "  'author': 'Gabriel Antoniu and J‐F Deverge and Sébastien Monnet',\n",
       "  'journal': 'Concurrency and Computation: Practice and Experience',\n",
       "  'volume': '18',\n",
       "  'number': '13',\n",
       "  'pages': '1705-1723',\n",
       "  'publisher': 'John Wiley & Sons, Ltd.',\n",
       "  'abstract': 'This paper addresses the challenge of transparent data sharing within computing Grids built as cluster federations. On such platforms, the availability of storage resources may change in a dynamic way, often due to hardware failures. We focus on the problem of handling the consistency of replicated data in the presence of failures. We propose a software architecture which decouples consistency management from fault tolerance management. We illustrate this architecture with a case study showing how to design a consistency protocol using fault‐tolerant building blocks. As a proof of concept, we describe a prototype implementation of this protocol within JUXMEM, a software experimental platform for Grid data sharing, and we report on a preliminary experimental evaluation of the proposed approach. Copyright © 2006 John Wiley & Sons, Ltd.'},\n",
       " 'filled': True,\n",
       " 'author_pub_id': 'Eh72wrkAAAAJ:u5HHmVD_uO8C',\n",
       " 'num_citations': 58,\n",
       " 'citedby_url': '/scholar?cites=2191032800617564143',\n",
       " 'cites_id': ['2191032800617564143'],\n",
       " 'pub_url': 'https://onlinelibrary.wiley.com/doi/abs/10.1002/cpe.1024',\n",
       " 'url_related_articles': '/scholar?oi=bibs&hl=en&q=related:7wcKPLkcaB4J:scholar.google.com/',\n",
       " 'cites_per_year': {2005: 5,\n",
       "  2006: 12,\n",
       "  2007: 4,\n",
       "  2008: 11,\n",
       "  2009: 6,\n",
       "  2010: 9,\n",
       "  2011: 0,\n",
       "  2012: 1,\n",
       "  2013: 2,\n",
       "  2014: 0,\n",
       "  2015: 1,\n",
       "  2016: 0,\n",
       "  2017: 1,\n",
       "  2018: 1}}"
      ]
     },
     "execution_count": 19,
     "metadata": {},
     "output_type": "execute_result"
    }
   ],
   "source": [
    "pub"
   ]
  },
  {
   "cell_type": "code",
   "execution_count": 4,
   "metadata": {},
   "outputs": [],
   "source": [
    "# Fill the first publication\n",
    "first_publication_filled = scholarly.fill(author[\"publications\"][1])"
   ]
  },
  {
   "cell_type": "code",
   "execution_count": 5,
   "metadata": {},
   "outputs": [
    {
     "data": {
      "text/plain": [
       "{'container_type': 'Publication',\n",
       " 'source': <PublicationSource.AUTHOR_PUBLICATION_ENTRY: 'AUTHOR_PUBLICATION_ENTRY'>,\n",
       " 'bib': {'title': 'Traffic matrix estimation: Existing techniques and new directions',\n",
       "  'pub_year': 2002,\n",
       "  'author': 'Alberto Medina and Nina Taft and Kave Salamatian and Supratik Bhattacharyya and Christophe Diot',\n",
       "  'journal': 'ACM SIGCOMM Computer Communication Review',\n",
       "  'volume': '32',\n",
       "  'number': '4',\n",
       "  'pages': '161-174',\n",
       "  'publisher': 'ACM',\n",
       "  'abstract': 'Very few techniques have been proposed for estimating traffic matrices in the context of Internet traffic. Our work on POP-to-POP traffic matrices (TM) makes two contributions. The primary contribution is the outcome of a detailed comparative evaluation of the three existing techniques. We evaluate these methods with respect to the estimation errors yielded, sensitivity to prior information required and sensitivity to the statistical assumptions they make. We study the impact of characteristics such as path length and the amount of link sharing on the estimation errors. Using actual data from a Tier-1 backbone, we assess the validity of the typical assumptions needed by the TM estimation techniques. The secondary contribution of our work is the proposal of a new direction for TM estimation based on using choice models to model POP fanouts. These models allow us to overcome some of the problems of existing methods …'},\n",
       " 'filled': True,\n",
       " 'author_pub_id': 's718KIEAAAAJ:dfsIfKJdRG4C',\n",
       " 'num_citations': 788,\n",
       " 'citedby_url': '/scholar?cites=16743048074686648271',\n",
       " 'cites_id': ['16743048074686648271'],\n",
       " 'pub_url': 'https://dl.acm.org/doi/abs/10.1145/964725.633041',\n",
       " 'url_related_articles': '/scholar?oi=bibs&hl=en&q=related:z0_89INBW-gJ:scholar.google.com/',\n",
       " 'cites_per_year': {2002: 8,\n",
       "  2003: 35,\n",
       "  2004: 57,\n",
       "  2005: 56,\n",
       "  2006: 53,\n",
       "  2007: 72,\n",
       "  2008: 69,\n",
       "  2009: 48,\n",
       "  2010: 57,\n",
       "  2011: 53,\n",
       "  2012: 32,\n",
       "  2013: 42,\n",
       "  2014: 23,\n",
       "  2015: 28,\n",
       "  2016: 33,\n",
       "  2017: 22,\n",
       "  2018: 31,\n",
       "  2019: 13,\n",
       "  2020: 17,\n",
       "  2021: 22,\n",
       "  2022: 3}}"
      ]
     },
     "execution_count": 5,
     "metadata": {},
     "output_type": "execute_result"
    }
   ],
   "source": [
    "author[\"publications\"][1]"
   ]
  },
  {
   "cell_type": "code",
   "execution_count": 9,
   "metadata": {},
   "outputs": [],
   "source": [
    "def get_all_pdf(auteur_name,publications):\n",
    "    auteur = {}\n",
    "    for i in publications:\n",
    "        try:\n",
    "            auteur[i[\"author_pub_id\"].split(':')[1]] = True \n",
    "            print(i[\"author_pub_id\"])\n",
    "            get_pdf(i[\"author_pub_id\"])\n",
    "        except:\n",
    "            auteur[i[\"author_pub_id\"].split(':')[1]] = False \n",
    "            print(\"fail\" + i[\"author_pub_id\"])\n",
    "    auteur_string = json.dumps(auteur)\n",
    "    with open(\"Google_scholar/\" + publications[0][\"author_pub_id\"].split(':')[0]+\"/\"+ auteur_name +\".json\", 'w') as outfile:\n",
    "        json.dump(auteur_string, outfile)"
   ]
  },
  {
   "cell_type": "code",
   "execution_count": 12,
   "metadata": {},
   "outputs": [
    {
     "name": "stdout",
     "output_type": "stream",
     "text": [
      "s718KIEAAAAJ:cFHS6HbyZ2cC\n",
      "s718KIEAAAAJ:cFHS6HbyZ2cC\n",
      "https://hal.inria.fr/hal-01097551/document\n",
      "fails718KIEAAAAJ:cFHS6HbyZ2cC\n",
      "s718KIEAAAAJ:dfsIfKJdRG4C\n",
      "s718KIEAAAAJ:dfsIfKJdRG4C\n",
      "https://dl.acm.org/doi/pdf/10.1145/633025.633041\n",
      "fails718KIEAAAAJ:dfsIfKJdRG4C\n",
      "s718KIEAAAAJ:yD5IFk8b50cC\n",
      "s718KIEAAAAJ:yD5IFk8b50cC\n",
      "https://hal.inria.fr/hal-01097554/document\n",
      "fails718KIEAAAAJ:yD5IFk8b50cC\n",
      "s718KIEAAAAJ:a0OBvERweLwC\n",
      "s718KIEAAAAJ:a0OBvERweLwC\n",
      "https://www.usenix.org/legacy/event/imc05/tech/full_papers/soule/soule.pdf\n",
      "fails718KIEAAAAJ:a0OBvERweLwC\n",
      "s718KIEAAAAJ:D03iK_w7-QYC\n",
      "s718KIEAAAAJ:D03iK_w7-QYC\n",
      "http://citeseerx.ist.psu.edu/viewdoc/download?doi=10.1.1.187.7252&amp;rep=rep1&amp;type=pdf\n",
      "fails718KIEAAAAJ:D03iK_w7-QYC\n"
     ]
    },
    {
     "ename": "FileNotFoundError",
     "evalue": "[Errno 2] No such file or directory: 'Google_scholar/s718KIEAAAAJ/Kave.json'",
     "output_type": "error",
     "traceback": [
      "\u001b[1;31m---------------------------------------------------------------------------\u001b[0m",
      "\u001b[1;31mFileNotFoundError\u001b[0m                         Traceback (most recent call last)",
      "Input \u001b[1;32mIn [12]\u001b[0m, in \u001b[0;36m<module>\u001b[1;34m\u001b[0m\n\u001b[1;32m----> 1\u001b[0m \u001b[43mget_all_pdf\u001b[49m\u001b[43m(\u001b[49m\u001b[38;5;124;43m\"\u001b[39;49m\u001b[38;5;124;43mKave\u001b[39;49m\u001b[38;5;124;43m\"\u001b[39;49m\u001b[43m,\u001b[49m\u001b[43mauthor\u001b[49m\u001b[43m[\u001b[49m\u001b[38;5;124;43m\"\u001b[39;49m\u001b[38;5;124;43mpublications\u001b[39;49m\u001b[38;5;124;43m\"\u001b[39;49m\u001b[43m]\u001b[49m\u001b[43m[\u001b[49m\u001b[43m:\u001b[49m\u001b[38;5;241;43m5\u001b[39;49m\u001b[43m]\u001b[49m\u001b[43m)\u001b[49m\n",
      "Input \u001b[1;32mIn [9]\u001b[0m, in \u001b[0;36mget_all_pdf\u001b[1;34m(auteur_name, publications)\u001b[0m\n\u001b[0;32m     10\u001b[0m         \u001b[38;5;28mprint\u001b[39m(\u001b[38;5;124m\"\u001b[39m\u001b[38;5;124mfail\u001b[39m\u001b[38;5;124m\"\u001b[39m \u001b[38;5;241m+\u001b[39m i[\u001b[38;5;124m\"\u001b[39m\u001b[38;5;124mauthor_pub_id\u001b[39m\u001b[38;5;124m\"\u001b[39m])\n\u001b[0;32m     11\u001b[0m auteur_string \u001b[38;5;241m=\u001b[39m json\u001b[38;5;241m.\u001b[39mdumps(auteur)\n\u001b[1;32m---> 12\u001b[0m \u001b[38;5;28;01mwith\u001b[39;00m \u001b[38;5;28;43mopen\u001b[39;49m\u001b[43m(\u001b[49m\u001b[38;5;124;43m\"\u001b[39;49m\u001b[38;5;124;43mGoogle_scholar/\u001b[39;49m\u001b[38;5;124;43m\"\u001b[39;49m\u001b[43m \u001b[49m\u001b[38;5;241;43m+\u001b[39;49m\u001b[43m \u001b[49m\u001b[43mpublications\u001b[49m\u001b[43m[\u001b[49m\u001b[38;5;241;43m0\u001b[39;49m\u001b[43m]\u001b[49m\u001b[43m[\u001b[49m\u001b[38;5;124;43m\"\u001b[39;49m\u001b[38;5;124;43mauthor_pub_id\u001b[39;49m\u001b[38;5;124;43m\"\u001b[39;49m\u001b[43m]\u001b[49m\u001b[38;5;241;43m.\u001b[39;49m\u001b[43msplit\u001b[49m\u001b[43m(\u001b[49m\u001b[38;5;124;43m'\u001b[39;49m\u001b[38;5;124;43m:\u001b[39;49m\u001b[38;5;124;43m'\u001b[39;49m\u001b[43m)\u001b[49m\u001b[43m[\u001b[49m\u001b[38;5;241;43m0\u001b[39;49m\u001b[43m]\u001b[49m\u001b[38;5;241;43m+\u001b[39;49m\u001b[38;5;124;43m\"\u001b[39;49m\u001b[38;5;124;43m/\u001b[39;49m\u001b[38;5;124;43m\"\u001b[39;49m\u001b[38;5;241;43m+\u001b[39;49m\u001b[43m \u001b[49m\u001b[43mauteur_name\u001b[49m\u001b[43m \u001b[49m\u001b[38;5;241;43m+\u001b[39;49m\u001b[38;5;124;43m\"\u001b[39;49m\u001b[38;5;124;43m.json\u001b[39;49m\u001b[38;5;124;43m\"\u001b[39;49m\u001b[43m,\u001b[49m\u001b[43m \u001b[49m\u001b[38;5;124;43m'\u001b[39;49m\u001b[38;5;124;43mw\u001b[39;49m\u001b[38;5;124;43m'\u001b[39;49m\u001b[43m)\u001b[49m \u001b[38;5;28;01mas\u001b[39;00m outfile:\n\u001b[0;32m     13\u001b[0m     json\u001b[38;5;241m.\u001b[39mdump(auteur_string, outfile)\n",
      "\u001b[1;31mFileNotFoundError\u001b[0m: [Errno 2] No such file or directory: 'Google_scholar/s718KIEAAAAJ/Kave.json'"
     ]
    }
   ],
   "source": [
    "get_all_pdf(\"Kave\",author[\"publications\"][:5])\n",
    "    "
   ]
  },
  {
   "cell_type": "code",
   "execution_count": 9,
   "metadata": {},
   "outputs": [],
   "source": [
    "response = requests.get(\"https://scholar.google.com/citations?view_op=view_citation&hl=en&user=s718KIEAAAAJ&citation_for_view=s718KIEAAAAJ:dfsIfKJdRG4C\")"
   ]
  },
  {
   "cell_type": "code",
   "execution_count": 10,
   "metadata": {},
   "outputs": [
    {
     "data": {
      "text/plain": [
       "'https://dl.acm.org/doi/pdf/10.1145/633025.633041'"
      ]
     },
     "execution_count": 10,
     "metadata": {},
     "output_type": "execute_result"
    }
   ],
   "source": [
    "response.text.split('<div class=\"gsc_oci_title_ggi\"><a href=\"')[1].split('\"')[0]"
   ]
  },
  {
   "cell_type": "code",
   "execution_count": 10,
   "metadata": {},
   "outputs": [],
   "source": [
    "def get_pdf(author_pub_id):\n",
    "    print(author_pub_id)\n",
    "    user = author_pub_id.split(\":\")[0]\n",
    "    url = \"https://scholar.google.com/citations?view_op=view_citation&hl=en&user=\" + user + \"&citation_for_view=\" + author_pub_id\n",
    "    pdf_url = requests.get(url).text.split('<div class=\"gsc_oci_title_ggi\"><a href=\"')[1].split('\"')[0]\n",
    "    print(pdf_url)\n",
    "    pdf = requests.get(pdf_url)\n",
    "    try:\n",
    "        f = open(\"Google_scholar/\" + user+\"/\" + author_pub_id.replace(\":\",\"_\")+\".pdf\", 'wb')\n",
    "    except:\n",
    "        os.mkdir(\"Google_scholar/\" +user)\n",
    "        f = open(\"Google_scholar/\" + user+\"/\" + author_pub_id.replace(\":\",\"_\")+\".pdf\", 'wb')\n",
    "    f.write(pdf.content)\n",
    "    f.close()\n"
   ]
  },
  {
   "cell_type": "code",
   "execution_count": 12,
   "metadata": {},
   "outputs": [
    {
     "name": "stdout",
     "output_type": "stream",
     "text": [
      "s718KIEAAAAJ:CHSYGLWDkRkC\n",
      "https://hal.archives-ouvertes.fr/hal-00620090/file/infocom2009.pdf\n"
     ]
    }
   ],
   "source": [
    "get_pdf(\"s718KIEAAAAJ:CHSYGLWDkRkC\")"
   ]
  }
 ],
 "metadata": {
  "interpreter": {
   "hash": "d225ef068b728d8e49a1c2030954afd4b67d98d094d362098b681dadac24fc32"
  },
  "kernelspec": {
   "display_name": "Python 3.10.2 64-bit (windows store)",
   "language": "python",
   "name": "python3"
  },
  "language_info": {
   "codemirror_mode": {
    "name": "ipython",
    "version": 3
   },
   "file_extension": ".py",
   "mimetype": "text/x-python",
   "name": "python",
   "nbconvert_exporter": "python",
   "pygments_lexer": "ipython3",
   "version": "3.8.8"
  },
  "orig_nbformat": 4
 },
 "nbformat": 4,
 "nbformat_minor": 2
}
